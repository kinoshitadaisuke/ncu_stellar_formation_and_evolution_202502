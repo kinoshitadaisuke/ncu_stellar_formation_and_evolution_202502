{
  "nbformat": 4,
  "nbformat_minor": 0,
  "metadata": {
    "colab": {
      "provenance": []
    },
    "kernelspec": {
      "name": "python3",
      "display_name": "Python 3"
    },
    "language_info": {
      "name": "python"
    }
  },
  "cells": [
    {
      "cell_type": "markdown",
      "source": [
        "# Stellar Formation and Evolution\n",
        "\n",
        "- \"Stellar Formation and Evolution\"\n",
        "  - Instructor: Kinoshita Daisuke\n",
        "  - Classroom: S4-914\n",
        "  - Time: from 09:00 to 11:50 on Monday\n",
        "  - Semester: 2nd semester of academic year 2024\n",
        "    - from February 2025 to June 2025\n",
        "  - Course web page: https://s3b.astro.ncu.edu.tw/star_202502/\n",
        "  - GitHub repository: https://github.com/kinoshitadaisuke/ncu_stellar_formation_and_evolution_202502\n"
      ],
      "metadata": {
        "id": "gGzI83b9PmnI"
      }
    },
    {
      "cell_type": "markdown",
      "source": [
        "# 0. Preparation"
      ],
      "metadata": {
        "id": "2rkrJl9U63bS"
      }
    },
    {
      "cell_type": "markdown",
      "source": [
        "## 0.1. Installation of Python interpreter"
      ],
      "metadata": {
        "id": "T_y7rto6Q5P8"
      }
    },
    {
      "cell_type": "code",
      "source": [
        "# Run this cell to install Python 3.12\n",
        "\n",
        "!apt update\n",
        "!apt upgrade\n",
        "!apt install python3.13 python3.13-dev python3.13-full libpython3.13-dev\n",
        "!update-alternatives --install /usr/bin/python3 python3 /usr/bin/python3.13 1\n",
        "!wget https://bootstrap.pypa.io/get-pip.py\n",
        "!python3.13 get-pip.py"
      ],
      "metadata": {
        "id": "MzmVLkC8QyGZ"
      },
      "execution_count": null,
      "outputs": []
    },
    {
      "cell_type": "code",
      "source": [
        "# Run this cell to check the version of Python interpreter and pip command\n",
        "\n",
        "!python3.13 --version\n",
        "!pip --version"
      ],
      "metadata": {
        "id": "Vx-JYTyp3NMU"
      },
      "execution_count": null,
      "outputs": []
    },
    {
      "cell_type": "code",
      "source": [
        "# Run this cell to install external packages.\n",
        "\n",
        "!pip install matplotlib matplotlib-inline numpy scipy nuclyr sympy"
      ],
      "metadata": {
        "id": "TzYngZ-iw8vC"
      },
      "execution_count": null,
      "outputs": []
    },
    {
      "cell_type": "markdown",
      "source": [
        "## 0.2. Downloading a set of sample Python scripts for this course"
      ],
      "metadata": {
        "id": "zvKZRFoF8A8k"
      }
    },
    {
      "cell_type": "code",
      "source": [
        "# Run this cell to download a set of sample Python scripts for this course.\n",
        "\n",
        "!git clone https://github.com/kinoshitadaisuke/ncu_stellar_formation_and_evolution_202502.git"
      ],
      "metadata": {
        "id": "itsUqwak4-z4"
      },
      "execution_count": null,
      "outputs": []
    },
    {
      "cell_type": "code",
      "source": [
        "# Run this cell to move to the directory for this session.\n",
        "\n",
        "%cd /content/ncu_stellar_formation_and_evolution_202502/\n",
        "!git pull -r"
      ],
      "metadata": {
        "id": "bREyxIP08RZG"
      },
      "execution_count": null,
      "outputs": []
    },
    {
      "cell_type": "code",
      "source": [
        "# Run this cell to show a list of files for this session.\n",
        "\n",
        "!ls -lF"
      ],
      "metadata": {
        "id": "fKxQ_X-D8dRN"
      },
      "execution_count": null,
      "outputs": []
    },
    {
      "cell_type": "markdown",
      "source": [
        "# 1. Energy produced by nuclear reactions"
      ],
      "metadata": {
        "id": "To6v2bx46w2N"
      }
    },
    {
      "cell_type": "code",
      "source": [
        "# Run this cell to move to the target directory.\n",
        "\n",
        "%cd /content/ncu_stellar_formation_and_evolution_202502/nuclear_reaction"
      ],
      "metadata": {
        "id": "XmEOpjZj7Lr5"
      },
      "execution_count": null,
      "outputs": []
    },
    {
      "cell_type": "markdown",
      "source": [
        "# 1.1. Mass excess of 1H (proton)"
      ],
      "metadata": {
        "id": "z0s7PvpJB80l"
      }
    },
    {
      "cell_type": "code",
      "source": [
        "# Run this cell to show the source code of the script.\n",
        "\n",
        "!cat nuclear_00.py"
      ],
      "metadata": {
        "id": "318aBYwnCBlW"
      },
      "execution_count": null,
      "outputs": []
    },
    {
      "cell_type": "code",
      "source": [
        "# Run this cell to execute the script.\n",
        "\n",
        "!python3.13 nuclear_00.py"
      ],
      "metadata": {
        "id": "9aFyeaR7CFve"
      },
      "execution_count": null,
      "outputs": []
    },
    {
      "cell_type": "markdown",
      "source": [
        "# 1.2. Mass excess of 4He (helium-4)"
      ],
      "metadata": {
        "id": "IyvWxuO_COLy"
      }
    },
    {
      "cell_type": "code",
      "source": [
        "# Run this cell to show the source code of the script.\n",
        "\n",
        "!cat nuclear_01.py"
      ],
      "metadata": {
        "id": "d9wA1mjoCOL0"
      },
      "execution_count": null,
      "outputs": []
    },
    {
      "cell_type": "code",
      "source": [
        "# Run this cell to execute the script.\n",
        "\n",
        "!python3.13 nuclear_01.py"
      ],
      "metadata": {
        "id": "oh1nU282COL2"
      },
      "execution_count": null,
      "outputs": []
    },
    {
      "cell_type": "markdown",
      "source": [
        "# 1.3. Calculation of energy produced by p-p chain"
      ],
      "metadata": {
        "id": "_Sfgg3TmCTY0"
      }
    },
    {
      "cell_type": "code",
      "source": [
        "# Run this cell to show the source code of the script.\n",
        "\n",
        "!cat nuclear_02.py"
      ],
      "metadata": {
        "id": "vfbReOkNCWqZ"
      },
      "execution_count": null,
      "outputs": []
    },
    {
      "cell_type": "code",
      "source": [
        "# Run this cell to execute the script.\n",
        "\n",
        "!python3.13 nuclear_02.py"
      ],
      "metadata": {
        "id": "E1wOYDcjCWqc"
      },
      "execution_count": null,
      "outputs": []
    },
    {
      "cell_type": "markdown",
      "source": [
        "# 1.4. Mass excess of 12C (carbon-12)"
      ],
      "metadata": {
        "id": "9iqEVkHVCeBL"
      }
    },
    {
      "cell_type": "code",
      "source": [
        "# Run this cell to show the source code of the script.\n",
        "\n",
        "!cat nuclear_03.py"
      ],
      "metadata": {
        "id": "mUTdkMpECeBk"
      },
      "execution_count": null,
      "outputs": []
    },
    {
      "cell_type": "code",
      "source": [
        "# Run this cell to execute the script.\n",
        "\n",
        "!python3.13 nuclear_03.py"
      ],
      "metadata": {
        "id": "HIlMF0rlCeBn"
      },
      "execution_count": null,
      "outputs": []
    },
    {
      "cell_type": "markdown",
      "source": [
        "# 1.5. Calculation of energy produced by triple alpha process"
      ],
      "metadata": {
        "id": "aDydLxuVCk4l"
      }
    },
    {
      "cell_type": "code",
      "source": [
        "# Run this cell to show the source code of the script.\n",
        "\n",
        "!cat nuclear_04.py"
      ],
      "metadata": {
        "id": "qr9RlSM8CpAm"
      },
      "execution_count": null,
      "outputs": []
    },
    {
      "cell_type": "code",
      "source": [
        "# Run this cell to execute the script.\n",
        "\n",
        "!python3.13 nuclear_04.py"
      ],
      "metadata": {
        "id": "wAdupuhvCpAr"
      },
      "execution_count": null,
      "outputs": []
    },
    {
      "cell_type": "markdown",
      "source": [
        "# 1.6. Calculation of energy produced by oxygen formation"
      ],
      "metadata": {
        "id": "hxT6hvHbCuqd"
      }
    },
    {
      "cell_type": "code",
      "source": [
        "# Run this cell to show the source code of the script.\n",
        "\n",
        "!cat nuclear_05.py"
      ],
      "metadata": {
        "id": "uO0ZmGwRCuqg"
      },
      "execution_count": null,
      "outputs": []
    },
    {
      "cell_type": "code",
      "source": [
        "# Run this cell to execute the script.\n",
        "\n",
        "!python3.13 nuclear_05.py"
      ],
      "metadata": {
        "id": "ezEZ9qgGCuqi"
      },
      "execution_count": null,
      "outputs": []
    },
    {
      "cell_type": "markdown",
      "source": [
        "# 1.7. Making a plot of binding energy per nucleon"
      ],
      "metadata": {
        "id": "6UAMEMBiC3fH"
      }
    },
    {
      "cell_type": "code",
      "source": [
        "# Run this cell to show the source code of the script.\n",
        "\n",
        "!cat nuclear_06.py"
      ],
      "metadata": {
        "id": "gEkB_hKCC-Dn"
      },
      "execution_count": null,
      "outputs": []
    },
    {
      "cell_type": "code",
      "source": [
        "# Run this cell to execute the script.\n",
        "\n",
        "!python3.13 nuclear_06.py"
      ],
      "metadata": {
        "id": "-EHjeoFHC-Dr"
      },
      "execution_count": null,
      "outputs": []
    },
    {
      "cell_type": "code",
      "source": [
        "# Run this cell to display PNG image.\n",
        "\n",
        "# importing IPthon.display module\n",
        "import IPython.display\n",
        "\n",
        "# displaying PNG image\n",
        "IPython.display.Image ('binding_energy_025.png')"
      ],
      "metadata": {
        "id": "BvDZA8Z0DDkj"
      },
      "execution_count": null,
      "outputs": []
    },
    {
      "cell_type": "code",
      "source": [
        "# Run this cell to show the source code of the script.\n",
        "\n",
        "!cat nuclear_07.py"
      ],
      "metadata": {
        "id": "Jrrn36U9C_t4"
      },
      "execution_count": null,
      "outputs": []
    },
    {
      "cell_type": "code",
      "source": [
        "# Run this cell to execute the script.\n",
        "\n",
        "!python3.13 nuclear_07.py"
      ],
      "metadata": {
        "id": "61JPHlybC_t7"
      },
      "execution_count": null,
      "outputs": []
    },
    {
      "cell_type": "code",
      "source": [
        "# Run this cell to display PNG image.\n",
        "\n",
        "# importing IPthon.display module\n",
        "import IPython.display\n",
        "\n",
        "# displaying PNG image\n",
        "IPython.display.Image ('binding_energy_110.png')"
      ],
      "metadata": {
        "id": "I4pNjCs_DVdF"
      },
      "execution_count": null,
      "outputs": []
    },
    {
      "cell_type": "markdown",
      "source": [
        "# 1.7. Calculation of specific energy due to carbon burning"
      ],
      "metadata": {
        "id": "0bYfF3xyDhJN"
      }
    },
    {
      "cell_type": "code",
      "source": [
        "# Run this cell to show the source code of the script.\n",
        "\n",
        "!cat nuclear_08.py"
      ],
      "metadata": {
        "id": "A6rUmZ1gDmip"
      },
      "execution_count": null,
      "outputs": []
    },
    {
      "cell_type": "code",
      "source": [
        "# Run this cell to execute the script.\n",
        "\n",
        "!python3.13 nuclear_08.py"
      ],
      "metadata": {
        "id": "1iHe1PUgDmjA"
      },
      "execution_count": null,
      "outputs": []
    },
    {
      "cell_type": "markdown",
      "source": [
        "# 1.8. Calculation of specific energy due to oxygen burning"
      ],
      "metadata": {
        "id": "1VPLDYkfDsQw"
      }
    },
    {
      "cell_type": "code",
      "source": [
        "# Run this cell to show the source code of the script.\n",
        "\n",
        "!cat nuclear_09.py"
      ],
      "metadata": {
        "id": "veotKK8JDsQ_"
      },
      "execution_count": null,
      "outputs": []
    },
    {
      "cell_type": "code",
      "source": [
        "# Run this cell to execute the script.\n",
        "\n",
        "!python3.13 nuclear_09.py"
      ],
      "metadata": {
        "id": "_eVUpop6DsRD"
      },
      "execution_count": null,
      "outputs": []
    },
    {
      "cell_type": "markdown",
      "source": [
        "# 1.9. Calculation of energy produced by annihilation of an electron and a positron"
      ],
      "metadata": {
        "id": "JQW65LHKD3CW"
      }
    },
    {
      "cell_type": "code",
      "source": [
        "# Run this cell to show the source code of the script.\n",
        "\n",
        "!cat nuclear_10.py"
      ],
      "metadata": {
        "id": "_6YD-dHAD8W_"
      },
      "execution_count": null,
      "outputs": []
    },
    {
      "cell_type": "code",
      "source": [
        "# Run this cell to execute the script.\n",
        "\n",
        "!python3.13 nuclear_10.py"
      ],
      "metadata": {
        "id": "-BaDDQEqD8XC"
      },
      "execution_count": null,
      "outputs": []
    },
    {
      "cell_type": "markdown",
      "source": [
        "# 2. Solving differential equations"
      ],
      "metadata": {
        "id": "n_C-CN3D9ggs"
      }
    },
    {
      "cell_type": "code",
      "source": [
        "# Run this cell to move to the target directory.\n",
        "\n",
        "%cd /content/ncu_stellar_formation_and_evolution_202502/differential_equation"
      ],
      "metadata": {
        "id": "apiejGpK9kTA"
      },
      "execution_count": null,
      "outputs": []
    },
    {
      "cell_type": "markdown",
      "source": [
        "# 2.1. Solving an equation dy/dx = -ky"
      ],
      "metadata": {
        "id": "4sGBLQz4wQmH"
      }
    },
    {
      "cell_type": "code",
      "source": [
        "# Run this cell to show the source code of the script.\n",
        "\n",
        "!cat simple_00.py"
      ],
      "metadata": {
        "id": "t1ut5r8swUvt"
      },
      "execution_count": null,
      "outputs": []
    },
    {
      "cell_type": "code",
      "source": [
        "# Run this cell to execute the script.\n",
        "\n",
        "!python3.13 simple_00.py"
      ],
      "metadata": {
        "id": "EgukRcY6wd0u"
      },
      "execution_count": null,
      "outputs": []
    },
    {
      "cell_type": "code",
      "source": [
        "# Run this cell to show the source code of the script.\n",
        "\n",
        "!cat simple_01.py"
      ],
      "metadata": {
        "id": "UFtk_q69wmyu"
      },
      "execution_count": null,
      "outputs": []
    },
    {
      "cell_type": "code",
      "source": [
        "# Run this cell to execute the script.\n",
        "\n",
        "!python3.13 simple_01.py"
      ],
      "metadata": {
        "id": "kQR9Gu9RwmzA"
      },
      "execution_count": null,
      "outputs": []
    },
    {
      "cell_type": "code",
      "source": [
        "# Run this cell to display an image file.\n",
        "\n",
        "# importing IPython.display module\n",
        "import IPython.display\n",
        "\n",
        "# displaying a PNG file.\n",
        "IPython.display.Image ('simple_01.png')"
      ],
      "metadata": {
        "id": "qCM32AJGwulY"
      },
      "execution_count": null,
      "outputs": []
    },
    {
      "cell_type": "code",
      "source": [
        "# Run this cell to show the source code of the script.\n",
        "\n",
        "!cat simple_02.py"
      ],
      "metadata": {
        "id": "0hhSXa3Sw_q_"
      },
      "execution_count": null,
      "outputs": []
    },
    {
      "cell_type": "code",
      "source": [
        "# Run this cell to execute the script.\n",
        "\n",
        "!python3.13 simple_02.py"
      ],
      "metadata": {
        "id": "NsCt03HZw_rO"
      },
      "execution_count": null,
      "outputs": []
    },
    {
      "cell_type": "code",
      "source": [
        "# Run this cell to show the source code of the script.\n",
        "\n",
        "!cat simple_03.py"
      ],
      "metadata": {
        "id": "X7VTyALKxCCb"
      },
      "execution_count": null,
      "outputs": []
    },
    {
      "cell_type": "code",
      "source": [
        "# Run this cell to execute the script.\n",
        "\n",
        "!python3.13 simple_03.py"
      ],
      "metadata": {
        "id": "_a4SRY0zxCCb"
      },
      "execution_count": null,
      "outputs": []
    },
    {
      "cell_type": "code",
      "source": [
        "# Run this cell to display an image file.\n",
        "\n",
        "# importing IPython.display module\n",
        "import IPython.display\n",
        "\n",
        "# displaying a PNG file.\n",
        "IPython.display.Image ('simple_03.png')"
      ],
      "metadata": {
        "id": "jdjljLvfxCCc"
      },
      "execution_count": null,
      "outputs": []
    },
    {
      "cell_type": "code",
      "source": [
        "# Run this cell to show the source code of the script.\n",
        "\n",
        "!cat simple_04.py"
      ],
      "metadata": {
        "id": "iR6G3E4LxD9P"
      },
      "execution_count": null,
      "outputs": []
    },
    {
      "cell_type": "code",
      "source": [
        "# Run this cell to execute the script.\n",
        "\n",
        "!python3.13 simple_04.py"
      ],
      "metadata": {
        "id": "Xn6q1Dk2xD9R"
      },
      "execution_count": null,
      "outputs": []
    },
    {
      "cell_type": "code",
      "source": [
        "# Run this cell to display an image file.\n",
        "\n",
        "# importing IPython.display module\n",
        "import IPython.display\n",
        "\n",
        "# displaying a PNG file.\n",
        "IPython.display.Image ('simple_04.png')"
      ],
      "metadata": {
        "id": "gNmQnvqUxD9S"
      },
      "execution_count": null,
      "outputs": []
    },
    {
      "cell_type": "code",
      "source": [
        "# Run this cell to show the source code of the script.\n",
        "\n",
        "!cat simple_05.py"
      ],
      "metadata": {
        "id": "aCfs9SqWxGui"
      },
      "execution_count": null,
      "outputs": []
    },
    {
      "cell_type": "code",
      "source": [
        "# Run this cell to execute the script.\n",
        "\n",
        "!python3.13 simple_05.py"
      ],
      "metadata": {
        "id": "cQzcxYUExGuq"
      },
      "execution_count": null,
      "outputs": []
    },
    {
      "cell_type": "code",
      "source": [
        "# Run this cell to display an image file.\n",
        "\n",
        "# importing IPython.display module\n",
        "import IPython.display\n",
        "\n",
        "# displaying a PNG file.\n",
        "IPython.display.Image ('simple_05.png')"
      ],
      "metadata": {
        "id": "yAa92p0IxGut"
      },
      "execution_count": null,
      "outputs": []
    },
    {
      "cell_type": "markdown",
      "source": [
        "# 2.2. Solving dv/dt = -g"
      ],
      "metadata": {
        "id": "w9sEF-M6xL-9"
      }
    },
    {
      "cell_type": "code",
      "source": [
        "# Run this cell to show the source code of the script.\n",
        "\n",
        "!cat velocity_00.py"
      ],
      "metadata": {
        "id": "tl80NtROxWRu"
      },
      "execution_count": null,
      "outputs": []
    },
    {
      "cell_type": "code",
      "source": [
        "# Run this cell to execute the script.\n",
        "\n",
        "!python3.13 velocity_00.py"
      ],
      "metadata": {
        "id": "sbcymCDIxWSG"
      },
      "execution_count": null,
      "outputs": []
    },
    {
      "cell_type": "code",
      "source": [
        "# Run this cell to show the source code of the script.\n",
        "\n",
        "!cat velocity_01.py"
      ],
      "metadata": {
        "id": "Yyq6uY5Oxa3L"
      },
      "execution_count": null,
      "outputs": []
    },
    {
      "cell_type": "code",
      "source": [
        "# Run this cell to execute the script.\n",
        "\n",
        "!python3.13 velocity_01.py"
      ],
      "metadata": {
        "id": "DWL_lmFpxa3M"
      },
      "execution_count": null,
      "outputs": []
    },
    {
      "cell_type": "code",
      "source": [
        "# Run this cell to show the source code of the script.\n",
        "\n",
        "!cat velocity_02.py"
      ],
      "metadata": {
        "id": "5tN3xU52xcG1"
      },
      "execution_count": null,
      "outputs": []
    },
    {
      "cell_type": "code",
      "source": [
        "# Run this cell to execute the script.\n",
        "\n",
        "!python3.13 velocity_02.py"
      ],
      "metadata": {
        "id": "zy005f2kxcG2"
      },
      "execution_count": null,
      "outputs": []
    },
    {
      "cell_type": "code",
      "source": [
        "# Run this cell to show the source code of the script.\n",
        "\n",
        "!cat velocity_03.py"
      ],
      "metadata": {
        "id": "ddowUNeYxeID"
      },
      "execution_count": null,
      "outputs": []
    },
    {
      "cell_type": "code",
      "source": [
        "# Run this cell to execute the script.\n",
        "\n",
        "!python3.13 velocity_03.py"
      ],
      "metadata": {
        "id": "NsQ_Y4pRxeIE"
      },
      "execution_count": null,
      "outputs": []
    },
    {
      "cell_type": "code",
      "source": [
        "# Run this cell to display an image file.\n",
        "\n",
        "# importing IPython.display module\n",
        "import IPython.display\n",
        "\n",
        "# displaying a PNG file.\n",
        "IPython.display.Image ('velocity_03.png')"
      ],
      "metadata": {
        "id": "O2E-G3QXxlvZ"
      },
      "execution_count": null,
      "outputs": []
    },
    {
      "cell_type": "code",
      "source": [
        "# Run this cell to show the source code of the script.\n",
        "\n",
        "!cat velocity_04.py"
      ],
      "metadata": {
        "id": "NGXDorRnxpMK"
      },
      "execution_count": null,
      "outputs": []
    },
    {
      "cell_type": "code",
      "source": [
        "# Run this cell to execute the script.\n",
        "\n",
        "!python3.13 velocity_04.py"
      ],
      "metadata": {
        "id": "-hASPT2oxpMW"
      },
      "execution_count": null,
      "outputs": []
    },
    {
      "cell_type": "code",
      "source": [
        "# Run this cell to display an image file.\n",
        "\n",
        "# importing IPython.display module\n",
        "import IPython.display\n",
        "\n",
        "# displaying a PNG file.\n",
        "IPython.display.Image ('velocity_04.png')"
      ],
      "metadata": {
        "id": "Z4f7I2GlxpMY"
      },
      "execution_count": null,
      "outputs": []
    },
    {
      "cell_type": "markdown",
      "source": [
        "# 2.3. Solving d2z/dt2 = -g"
      ],
      "metadata": {
        "id": "KKQAgY7NxuXA"
      }
    },
    {
      "cell_type": "code",
      "source": [
        "# Run this cell to show the source code of the script.\n",
        "\n",
        "!cat position_00.py"
      ],
      "metadata": {
        "id": "ynEZz3aIx4PA"
      },
      "execution_count": null,
      "outputs": []
    },
    {
      "cell_type": "code",
      "source": [
        "# Run this cell to execute the script.\n",
        "\n",
        "!python3.13 position_00.py"
      ],
      "metadata": {
        "id": "v5baH7Ekx4PM"
      },
      "execution_count": null,
      "outputs": []
    },
    {
      "cell_type": "code",
      "source": [
        "# Run this cell to display an image file.\n",
        "\n",
        "# importing IPython.display module\n",
        "import IPython.display\n",
        "\n",
        "# displaying a PNG file.\n",
        "IPython.display.Image ('position_00.png')"
      ],
      "metadata": {
        "id": "rs9Fd9w9x4PP"
      },
      "execution_count": null,
      "outputs": []
    },
    {
      "cell_type": "code",
      "source": [
        "# Run this cell to show the source code of the script.\n",
        "\n",
        "!cat position_01.py"
      ],
      "metadata": {
        "id": "mMl475O1x9ke"
      },
      "execution_count": null,
      "outputs": []
    },
    {
      "cell_type": "code",
      "source": [
        "# Run this cell to execute the script.\n",
        "\n",
        "!python3.13 position_01.py"
      ],
      "metadata": {
        "id": "DpWtfQnZx9kh"
      },
      "execution_count": null,
      "outputs": []
    },
    {
      "cell_type": "code",
      "source": [
        "# Run this cell to display an image file.\n",
        "\n",
        "# importing IPython.display module\n",
        "import IPython.display\n",
        "\n",
        "# displaying a PNG file.\n",
        "IPython.display.Image ('position_01.png')"
      ],
      "metadata": {
        "id": "jHW2o87jx9kk"
      },
      "execution_count": null,
      "outputs": []
    },
    {
      "cell_type": "markdown",
      "source": [
        "# 2.4. Trajectory"
      ],
      "metadata": {
        "id": "4g6DvI8SyIug"
      }
    },
    {
      "cell_type": "code",
      "source": [
        "# Run this cell to show the source code of the script.\n",
        "\n",
        "!cat trajectory_00.py"
      ],
      "metadata": {
        "id": "6AfxCTauyO8z"
      },
      "execution_count": null,
      "outputs": []
    },
    {
      "cell_type": "code",
      "source": [
        "# Run this cell to execute the script.\n",
        "\n",
        "!python3.13 trajectory_00.py"
      ],
      "metadata": {
        "id": "btqC4GaEyO80"
      },
      "execution_count": null,
      "outputs": []
    },
    {
      "cell_type": "code",
      "source": [
        "# Run this cell to display an image file.\n",
        "\n",
        "# importing IPython.display module\n",
        "import IPython.display\n",
        "\n",
        "# displaying a PNG file.\n",
        "IPython.display.Image ('trajectory_00.png')"
      ],
      "metadata": {
        "id": "VHG8OvwByO81"
      },
      "execution_count": null,
      "outputs": []
    },
    {
      "cell_type": "code",
      "source": [
        "# Run this cell to show the source code of the script.\n",
        "\n",
        "!cat trajectory_01.py"
      ],
      "metadata": {
        "id": "TqWl9zHpyVup"
      },
      "execution_count": null,
      "outputs": []
    },
    {
      "cell_type": "code",
      "source": [
        "# Run this cell to execute the script.\n",
        "\n",
        "!python3.13 trajectory_01.py"
      ],
      "metadata": {
        "id": "YUAikG8dyVut"
      },
      "execution_count": null,
      "outputs": []
    },
    {
      "cell_type": "code",
      "source": [
        "# Run this cell to display an image file.\n",
        "\n",
        "# importing IPython.display module\n",
        "import IPython.display\n",
        "\n",
        "# displaying a PNG file.\n",
        "IPython.display.Image ('trajectory_01.png')"
      ],
      "metadata": {
        "id": "L_gmA9I9yVuw"
      },
      "execution_count": null,
      "outputs": []
    },
    {
      "cell_type": "code",
      "source": [
        "# Run this cell to show the source code of the script.\n",
        "\n",
        "!cat trajectory_02.py"
      ],
      "metadata": {
        "id": "AWWfFMVNyYrV"
      },
      "execution_count": null,
      "outputs": []
    },
    {
      "cell_type": "code",
      "source": [
        "# Run this cell to execute the script.\n",
        "\n",
        "!python3.13 trajectory_02.py"
      ],
      "metadata": {
        "id": "uU_8_PV1yYrV"
      },
      "execution_count": null,
      "outputs": []
    },
    {
      "cell_type": "code",
      "source": [
        "# Run this cell to display an image file.\n",
        "\n",
        "# importing IPython.display module\n",
        "import IPython.display\n",
        "\n",
        "# displaying a PNG file.\n",
        "IPython.display.Image ('trajectory_02.png')"
      ],
      "metadata": {
        "id": "u3Iq9QTxyYrW"
      },
      "execution_count": null,
      "outputs": []
    },
    {
      "cell_type": "code",
      "source": [
        "# Run this cell to show the source code of the script.\n",
        "\n",
        "!cat trajectory_03.py"
      ],
      "metadata": {
        "id": "NyYaYMj8yanw"
      },
      "execution_count": null,
      "outputs": []
    },
    {
      "cell_type": "code",
      "source": [
        "# Run this cell to execute the script.\n",
        "\n",
        "!python3.13 trajectory_03.py"
      ],
      "metadata": {
        "id": "ncuKTJtVyan1"
      },
      "execution_count": null,
      "outputs": []
    },
    {
      "cell_type": "code",
      "source": [
        "# Run this cell to display an image file.\n",
        "\n",
        "# importing IPython.display module\n",
        "import IPython.display\n",
        "\n",
        "# displaying a PNG file.\n",
        "IPython.display.Image ('trajectory_03.png')"
      ],
      "metadata": {
        "id": "H6SLKOpYyan3"
      },
      "execution_count": null,
      "outputs": []
    },
    {
      "cell_type": "code",
      "source": [
        "# Run this cell to show the source code of the script.\n",
        "\n",
        "!cat trajectory_04.py"
      ],
      "metadata": {
        "id": "6GdgQ6zIycdp"
      },
      "execution_count": null,
      "outputs": []
    },
    {
      "cell_type": "code",
      "source": [
        "# Run this cell to execute the script.\n",
        "\n",
        "!python3.13 trajectory_04.py"
      ],
      "metadata": {
        "id": "tJbBwdZQycdr"
      },
      "execution_count": null,
      "outputs": []
    },
    {
      "cell_type": "code",
      "source": [
        "# Run this cell to display an image file.\n",
        "\n",
        "# importing IPython.display module\n",
        "import IPython.display\n",
        "\n",
        "# displaying a PNG file.\n",
        "IPython.display.Image ('trajectory_04.png')"
      ],
      "metadata": {
        "id": "TwSAb5yDycds"
      },
      "execution_count": null,
      "outputs": []
    },
    {
      "cell_type": "markdown",
      "source": [
        "# 2.5. Solving equation of motion for a planet"
      ],
      "metadata": {
        "id": "snM16Wzhyht5"
      }
    },
    {
      "cell_type": "code",
      "source": [
        "# Run this cell to show the source code of the script.\n",
        "\n",
        "!cat planetary_motion.py"
      ],
      "metadata": {
        "id": "mAcsPZdsyqjn"
      },
      "execution_count": null,
      "outputs": []
    },
    {
      "cell_type": "code",
      "source": [
        "# Run this cell to execute the script.\n",
        "\n",
        "!python3.13 planetary_motion.py -h"
      ],
      "metadata": {
        "id": "CDZ55dlxyqjt"
      },
      "execution_count": null,
      "outputs": []
    },
    {
      "cell_type": "code",
      "source": [
        "# Run this cell to execute the script.\n",
        "\n",
        "!python3.13 planetary_motion.py -x0 1.00 -y0 0.00 -vx0 0.00 -vy0 1.25 -M 1 -t 5 -i 0.01 -r 225 -o planet"
      ],
      "metadata": {
        "id": "-AH9R1aVzY5_"
      },
      "execution_count": null,
      "outputs": []
    },
    {
      "cell_type": "code",
      "source": [
        "# Run this cell to find newly created files.\n",
        "\n",
        "!ls -lF planet"
      ],
      "metadata": {
        "id": "S1VbBXlrzFu0"
      },
      "execution_count": null,
      "outputs": []
    },
    {
      "cell_type": "code",
      "source": [
        "# Run this cell to show the source code of the script.\n",
        "\n",
        "!cat make_mp4.py"
      ],
      "metadata": {
        "id": "yD1OP9vT0iPm"
      },
      "execution_count": null,
      "outputs": []
    },
    {
      "cell_type": "code",
      "source": [
        "# Run this cell to execute the script.\n",
        "\n",
        "!python3.13 make_mp4.py -h"
      ],
      "metadata": {
        "id": "bLiMBG2r0iP0"
      },
      "execution_count": null,
      "outputs": []
    },
    {
      "cell_type": "code",
      "source": [
        "# Run this cell to execute the script.\n",
        "\n",
        "!python3.13 make_mp4.py -d planet -o planet.mp4"
      ],
      "metadata": {
        "id": "S7l6ZEil0nzU"
      },
      "execution_count": null,
      "outputs": []
    },
    {
      "cell_type": "code",
      "source": [
        "# Find newly created file.\n",
        "\n",
        "!ls -lF *.mp4"
      ],
      "metadata": {
        "id": "gQJiS0sa0Xkz"
      },
      "execution_count": null,
      "outputs": []
    },
    {
      "cell_type": "code",
      "source": [
        "# Run this cell to download MP4 movie file to your local computer.\n",
        "\n",
        "# importing google.colab module\n",
        "import google.colab\n",
        "\n",
        "# downloading the file \"planet.mp4\" to your computer\n",
        "google.colab.files.download ('planet.mp4')"
      ],
      "metadata": {
        "id": "tJwcbJqy02_a"
      },
      "execution_count": null,
      "outputs": []
    },
    {
      "cell_type": "markdown",
      "source": [
        "# 2.6. Solving Lane-Emden equation numerically"
      ],
      "metadata": {
        "id": "JFh3kRLC1pTW"
      }
    },
    {
      "cell_type": "code",
      "source": [
        "# Run this cell to show the source code of the script.\n",
        "\n",
        "!cat solve_laneemden.py"
      ],
      "metadata": {
        "id": "T5v_lLYx10qu"
      },
      "execution_count": null,
      "outputs": []
    },
    {
      "cell_type": "code",
      "source": [
        "# Run this cell to execute the script.\n",
        "\n",
        "!python3.13 solve_laneemden.py -h"
      ],
      "metadata": {
        "id": "6RlR5KKD18Vg"
      },
      "execution_count": null,
      "outputs": []
    },
    {
      "cell_type": "code",
      "source": [
        "# Run this cell to execute the script.\n",
        "\n",
        "!python3.13 solve_laneemden.py -n 0.0 -o n000.data\n",
        "!python3.13 solve_laneemden.py -n 0.5 -o n050.data\n",
        "!python3.13 solve_laneemden.py -n 1.0 -o n100.data\n",
        "!python3.13 solve_laneemden.py -n 1.5 -o n150.data\n",
        "!python3.13 solve_laneemden.py -n 2.0 -o n200.data\n",
        "!python3.13 solve_laneemden.py -n 2.5 -o n250.data\n",
        "!python3.13 solve_laneemden.py -n 3.0 -o n300.data\n",
        "!python3.13 solve_laneemden.py -n 3.5 -o n350.data\n",
        "!python3.13 solve_laneemden.py -n 4.0 -o n400.data\n",
        "!python3.13 solve_laneemden.py -n 4.5 -o n450.data"
      ],
      "metadata": {
        "id": "ZqHiPgTe2Bne"
      },
      "execution_count": null,
      "outputs": []
    },
    {
      "cell_type": "code",
      "source": [
        "# Find newly created files.\n",
        "\n",
        "!ls -lF n???.data"
      ],
      "metadata": {
        "id": "VvSFutUQ1r73"
      },
      "execution_count": null,
      "outputs": []
    },
    {
      "cell_type": "code",
      "source": [
        "# Run this cell to show the source code of the script.\n",
        "\n",
        "!cat plot_polytrope.py"
      ],
      "metadata": {
        "id": "z-cvheCH2pPu"
      },
      "execution_count": null,
      "outputs": []
    },
    {
      "cell_type": "code",
      "source": [
        "# Run this cell to execute the script.\n",
        "\n",
        "!python3.13 plot_polytrope.py -h"
      ],
      "metadata": {
        "id": "Wojmr5of2pP4"
      },
      "execution_count": null,
      "outputs": []
    },
    {
      "cell_type": "code",
      "source": [
        "# Run this cell to execute the script.\n",
        "\n",
        "!python3.13 plot_polytrope.py -d polytrope_density.png -p polytrope_pressure.png -t polytrope_temperature.png n???.data"
      ],
      "metadata": {
        "id": "isbUWvbs2vKO"
      },
      "execution_count": null,
      "outputs": []
    },
    {
      "cell_type": "code",
      "source": [
        "# Run this cell to display an image file.\n",
        "\n",
        "# importing IPython.display module\n",
        "IPython.display.Image ('polytrope_density.png')"
      ],
      "metadata": {
        "id": "R9uycLRy2YrH"
      },
      "execution_count": null,
      "outputs": []
    },
    {
      "cell_type": "code",
      "source": [
        "# Run this cell to display an image file.\n",
        "\n",
        "# importing IPython.display module\n",
        "IPython.display.Image ('polytrope_pressure.png')"
      ],
      "metadata": {
        "id": "N8yJ2o3X3bLQ"
      },
      "execution_count": null,
      "outputs": []
    },
    {
      "cell_type": "code",
      "source": [
        "# Run this cell to display an image file.\n",
        "\n",
        "# importing IPython.display module\n",
        "IPython.display.Image ('polytrope_temperature.png')"
      ],
      "metadata": {
        "id": "RfbDdQDG3bd1"
      },
      "execution_count": null,
      "outputs": []
    },
    {
      "cell_type": "markdown",
      "source": [
        "# 3. rho-T diagram"
      ],
      "metadata": {
        "id": "xnLv5FjSCmbN"
      }
    },
    {
      "cell_type": "code",
      "source": [
        "# Run this cell to move to the target directory.\n",
        "\n",
        "%cd /content/ncu_stellar_formation_and_evolution_202502/stellar_evolution"
      ],
      "metadata": {
        "id": "sOJqBHDmD1w0"
      },
      "execution_count": null,
      "outputs": []
    },
    {
      "cell_type": "markdown",
      "source": [
        "# 3.1. Borders of different physical states on rho-T diagram"
      ],
      "metadata": {
        "id": "ZrmA8A-QIpcH"
      }
    },
    {
      "cell_type": "code",
      "source": [
        "# Run this cell to show the source code of the script.\n",
        "\n",
        "!cat rho_T_state.py"
      ],
      "metadata": {
        "id": "K_vKAk7iIwB1"
      },
      "execution_count": null,
      "outputs": []
    },
    {
      "cell_type": "code",
      "source": [
        "# Run this cell to execute script.\n",
        "\n",
        "!python3.13 rho_T_state.py -h"
      ],
      "metadata": {
        "id": "VT5n-okJI0pQ"
      },
      "execution_count": null,
      "outputs": []
    },
    {
      "cell_type": "code",
      "source": [
        "# Run this cell to execute script.\n",
        "\n",
        "!python3.13 rho_T_state.py -o rho_T_state.png"
      ],
      "metadata": {
        "id": "7n3RmAjPI6Wi"
      },
      "execution_count": null,
      "outputs": []
    },
    {
      "cell_type": "code",
      "source": [
        "# Run this cell to find newly created file.\n",
        "\n",
        "!ls -lF *.png"
      ],
      "metadata": {
        "id": "X8xGK12HI5N1"
      },
      "execution_count": null,
      "outputs": []
    },
    {
      "cell_type": "code",
      "source": [
        "# Run this cell to display PNG file.\n",
        "\n",
        "# importing IPython module\n",
        "import IPython.display\n",
        "\n",
        "# displaying PNG file\n",
        "IPython.display.Image ('rho_T_state.png')"
      ],
      "metadata": {
        "id": "x-PBCOEEI_x0"
      },
      "execution_count": null,
      "outputs": []
    },
    {
      "cell_type": "markdown",
      "source": [
        "# 3.2. Regions of different physical states on rho-T diagram"
      ],
      "metadata": {
        "id": "38Ws_Be5JNZK"
      }
    },
    {
      "cell_type": "code",
      "source": [
        "# Run this cell to show the source code of the script.\n",
        "\n",
        "!cat rho_T_state_fill.py"
      ],
      "metadata": {
        "id": "c2n0vnv_JNZL"
      },
      "execution_count": null,
      "outputs": []
    },
    {
      "cell_type": "code",
      "source": [
        "# Run this cell to execute script.\n",
        "\n",
        "!python3.13 rho_T_state_fill.py -h"
      ],
      "metadata": {
        "id": "Q59CgH2vJNZL"
      },
      "execution_count": null,
      "outputs": []
    },
    {
      "cell_type": "code",
      "source": [
        "# Run this cell to execute script.\n",
        "\n",
        "!python3.13 rho_T_state_fill.py -o rho_T_state_fill.png"
      ],
      "metadata": {
        "id": "7VQt2yKrJNZM"
      },
      "execution_count": null,
      "outputs": []
    },
    {
      "cell_type": "code",
      "source": [
        "# Run this cell to find newly created file.\n",
        "\n",
        "!ls -lF *.png"
      ],
      "metadata": {
        "id": "AvM2XBYHJNZN"
      },
      "execution_count": null,
      "outputs": []
    },
    {
      "cell_type": "code",
      "source": [
        "# Run this cell to display PNG file.\n",
        "\n",
        "# importing IPython module\n",
        "import IPython.display\n",
        "\n",
        "# displaying PNG file\n",
        "IPython.display.Image ('rho_T_state_fill.png')"
      ],
      "metadata": {
        "id": "sXWSv2AWJNZN"
      },
      "execution_count": null,
      "outputs": []
    },
    {
      "cell_type": "markdown",
      "source": [
        "# 3.3. Evolutionary tracks of stars on rho-T diagram"
      ],
      "metadata": {
        "id": "sPqApXtKJbyb"
      }
    },
    {
      "cell_type": "code",
      "source": [
        "# Run this cell to show the source code of the script.\n",
        "\n",
        "!cat rho_T_evolution_ideal.py"
      ],
      "metadata": {
        "id": "oqH7G5lFJimv"
      },
      "execution_count": null,
      "outputs": []
    },
    {
      "cell_type": "code",
      "source": [
        "# Run this cell to execute script.\n",
        "\n",
        "!python3.13 rho_T_evolution_ideal.py -h"
      ],
      "metadata": {
        "id": "3JAxP82oJimx"
      },
      "execution_count": null,
      "outputs": []
    },
    {
      "cell_type": "code",
      "source": [
        "# Run this cell to execute script.\n",
        "\n",
        "!python3.13 rho_T_evolution_ideal.py -o rho_T_evolution_ideal.png"
      ],
      "metadata": {
        "id": "JqPCsDMMJimx"
      },
      "execution_count": null,
      "outputs": []
    },
    {
      "cell_type": "code",
      "source": [
        "# Run this cell to find newly created file.\n",
        "\n",
        "!ls -lF *.png"
      ],
      "metadata": {
        "id": "ywuvD4mTJimy"
      },
      "execution_count": null,
      "outputs": []
    },
    {
      "cell_type": "code",
      "source": [
        "# Run this cell to display PNG file.\n",
        "\n",
        "# importing IPython module\n",
        "import IPython.display\n",
        "\n",
        "# displaying PNG file\n",
        "IPython.display.Image ('rho_T_evolution_ideal.png')"
      ],
      "metadata": {
        "id": "1s-9KySbJim0"
      },
      "execution_count": null,
      "outputs": []
    },
    {
      "cell_type": "markdown",
      "source": [
        "# 4. Using Sympy\n",
        "\n",
        "To learn about Sympy, visit following web page.\n",
        "\n",
        "https://www.sympy.org/"
      ],
      "metadata": {
        "id": "6IBZzKmHvTH7"
      }
    },
    {
      "cell_type": "code",
      "source": [
        "# Run this cell to move to the target directory.\n",
        "\n",
        "%cd /content/ncu_stellar_formation_and_evolution_202502/using_sympy"
      ],
      "metadata": {
        "id": "-X7gbTIBFRkb"
      },
      "execution_count": null,
      "outputs": []
    },
    {
      "cell_type": "markdown",
      "source": [
        "# 4.1. Calculation of (x+1)**2"
      ],
      "metadata": {
        "id": "2AlucVrVsHoF"
      }
    },
    {
      "cell_type": "code",
      "source": [
        "# Run this cell to show the source code of the script.\n",
        "\n",
        "!cat sympy_00.py"
      ],
      "metadata": {
        "id": "LG9R3RRAsJqK"
      },
      "execution_count": null,
      "outputs": []
    },
    {
      "cell_type": "code",
      "source": [
        "# Run this cell to execute the script.\n",
        "\n",
        "!python3.13 sympy_00.py"
      ],
      "metadata": {
        "id": "tkaFgTGbsND9"
      },
      "execution_count": null,
      "outputs": []
    },
    {
      "cell_type": "markdown",
      "source": [
        "# 4.2. Factorisation of x**2 + x - 2"
      ],
      "metadata": {
        "id": "UvGZx8KMsa6I"
      }
    },
    {
      "cell_type": "code",
      "source": [
        "# Run this cell to show the source code of the script.\n",
        "\n",
        "!cat sympy_01.py"
      ],
      "metadata": {
        "id": "c0AUwxScse_M"
      },
      "execution_count": null,
      "outputs": []
    },
    {
      "cell_type": "code",
      "source": [
        "# Run this cell to execute the script.\n",
        "\n",
        "!python3.13 sympy_01.py"
      ],
      "metadata": {
        "id": "8BHRLnavse_N"
      },
      "execution_count": null,
      "outputs": []
    },
    {
      "cell_type": "markdown",
      "source": [
        "# 4.3. lim (1+1/x)**x"
      ],
      "metadata": {
        "id": "Cc8LNfY4swXw"
      }
    },
    {
      "cell_type": "code",
      "source": [
        "# Run this cell to show the source code of the script.\n",
        "\n",
        "!cat sympy_02.py"
      ],
      "metadata": {
        "id": "K7hTY5YWs1A_"
      },
      "execution_count": null,
      "outputs": []
    },
    {
      "cell_type": "code",
      "source": [
        "# Run this cell to execute the script.\n",
        "\n",
        "!python3.13 sympy_02.py"
      ],
      "metadata": {
        "id": "HZoUP7vOs1A_"
      },
      "execution_count": null,
      "outputs": []
    },
    {
      "cell_type": "markdown",
      "source": [
        "# 4.4. Solving a*x**2 + b*x + c = 0"
      ],
      "metadata": {
        "id": "5NT5nMV6s6MN"
      }
    },
    {
      "cell_type": "code",
      "source": [
        "# Run this cell to show the source code of the script.\n",
        "\n",
        "!cat sympy_03.py"
      ],
      "metadata": {
        "id": "_1fmbCaDs-wf"
      },
      "execution_count": null,
      "outputs": []
    },
    {
      "cell_type": "code",
      "source": [
        "# Run this cell to execute the script.\n",
        "\n",
        "!python3.13 sympy_03.py"
      ],
      "metadata": {
        "id": "J_PU_ibYs-wg"
      },
      "execution_count": null,
      "outputs": []
    },
    {
      "cell_type": "markdown",
      "source": [
        "# 4.5. d/dx (1/x)"
      ],
      "metadata": {
        "id": "qMiDHeOttFXP"
      }
    },
    {
      "cell_type": "code",
      "source": [
        "# Run this cell to show the source code of the script.\n",
        "\n",
        "!cat sympy_04.py"
      ],
      "metadata": {
        "id": "8_oHp7s1tKBM"
      },
      "execution_count": null,
      "outputs": []
    },
    {
      "cell_type": "code",
      "source": [
        "# Run this cell to execute the script.\n",
        "\n",
        "!python3.13 sympy_04.py"
      ],
      "metadata": {
        "id": "Tbtz_R2ctKBM"
      },
      "execution_count": null,
      "outputs": []
    },
    {
      "cell_type": "markdown",
      "source": [
        "# 4.6. d/dx [sin(x)]"
      ],
      "metadata": {
        "id": "f687Fnv2tPP5"
      }
    },
    {
      "cell_type": "code",
      "source": [
        "# Run this cell to show the source code of the script.\n",
        "\n",
        "!cat sympy_05.py"
      ],
      "metadata": {
        "id": "_TislDyztTKE"
      },
      "execution_count": null,
      "outputs": []
    },
    {
      "cell_type": "code",
      "source": [
        "# Run this cell to execute the script.\n",
        "\n",
        "!python3.13 sympy_05.py"
      ],
      "metadata": {
        "id": "aWvi_gVKtTKF"
      },
      "execution_count": null,
      "outputs": []
    },
    {
      "cell_type": "markdown",
      "source": [
        "# 4.7. d/dx [log(x)]"
      ],
      "metadata": {
        "id": "baBXwN_GtZmh"
      }
    },
    {
      "cell_type": "code",
      "source": [
        "# Run this cell to show the source code of the script.\n",
        "\n",
        "!cat sympy_06.py"
      ],
      "metadata": {
        "id": "3vsdkpA2tcZd"
      },
      "execution_count": null,
      "outputs": []
    },
    {
      "cell_type": "code",
      "source": [
        "# Run this cell to execute the script.\n",
        "\n",
        "!python3.13 sympy_06.py"
      ],
      "metadata": {
        "id": "qSn1ZOhstcZd"
      },
      "execution_count": null,
      "outputs": []
    },
    {
      "cell_type": "markdown",
      "source": [
        "# 4.8. Integration of x**2"
      ],
      "metadata": {
        "id": "y0Edpw4StjyT"
      }
    },
    {
      "cell_type": "code",
      "source": [
        "# Run this cell to show the source code of the script.\n",
        "\n",
        "!cat sympy_07.py"
      ],
      "metadata": {
        "id": "YabtGf3Ytnwo"
      },
      "execution_count": null,
      "outputs": []
    },
    {
      "cell_type": "code",
      "source": [
        "# Run this cell to execute the script.\n",
        "\n",
        "!python3.13 sympy_07.py"
      ],
      "metadata": {
        "id": "4sTufkeCtnwo"
      },
      "execution_count": null,
      "outputs": []
    },
    {
      "cell_type": "markdown",
      "source": [
        "# 4.9. Integration of sin(x)"
      ],
      "metadata": {
        "id": "m3kWDx3QtuEd"
      }
    },
    {
      "cell_type": "code",
      "source": [
        "# Run this cell to show the source code of the script.\n",
        "\n",
        "!cat sympy_08.py"
      ],
      "metadata": {
        "id": "KLcarxPKtweU"
      },
      "execution_count": null,
      "outputs": []
    },
    {
      "cell_type": "code",
      "source": [
        "# Run this cell to execute the script.\n",
        "\n",
        "!python3.13 sympy_08.py"
      ],
      "metadata": {
        "id": "ISUqUngotweU"
      },
      "execution_count": null,
      "outputs": []
    },
    {
      "cell_type": "markdown",
      "source": [
        "# 4.10. Integration of 1/x"
      ],
      "metadata": {
        "id": "8KlNLSuat2Ch"
      }
    },
    {
      "cell_type": "code",
      "source": [
        "# Run this cell to show the source code of the script.\n",
        "\n",
        "!cat sympy_09.py"
      ],
      "metadata": {
        "id": "RZVYDeUit4li"
      },
      "execution_count": null,
      "outputs": []
    },
    {
      "cell_type": "code",
      "source": [
        "# Run this cell to execute the script.\n",
        "\n",
        "!python3.13 sympy_09.py"
      ],
      "metadata": {
        "id": "9x1S-Ea_t4lj"
      },
      "execution_count": null,
      "outputs": []
    },
    {
      "cell_type": "markdown",
      "source": [
        "# 4.11. Solving dy/dx = -ky"
      ],
      "metadata": {
        "id": "mOiizuEnuFs8"
      }
    },
    {
      "cell_type": "code",
      "source": [
        "# Run this cell to show the source code of the script.\n",
        "\n",
        "!cat sympy_10.py"
      ],
      "metadata": {
        "id": "EzSJfpKduIW-"
      },
      "execution_count": null,
      "outputs": []
    },
    {
      "cell_type": "code",
      "source": [
        "# Run this cell to execute the script.\n",
        "\n",
        "!python3.13 sympy_10.py"
      ],
      "metadata": {
        "id": "AS7zmJ7_uIW_"
      },
      "execution_count": null,
      "outputs": []
    },
    {
      "cell_type": "markdown",
      "source": [
        "# 4.12. Solving Lane-Emden equation of n=0"
      ],
      "metadata": {
        "id": "t7e5jpgfuNE2"
      }
    },
    {
      "cell_type": "code",
      "source": [
        "# Run this cell to show the source code of the script.\n",
        "\n",
        "!cat sympy_11.py"
      ],
      "metadata": {
        "id": "k48OnUL4uP8W"
      },
      "execution_count": null,
      "outputs": []
    },
    {
      "cell_type": "code",
      "source": [
        "# Run this cell to execute the script.\n",
        "\n",
        "!python3.13 sympy_11.py"
      ],
      "metadata": {
        "id": "AYZRwRuauP8X"
      },
      "execution_count": null,
      "outputs": []
    },
    {
      "cell_type": "markdown",
      "source": [
        "# 4.13. definite integral 1"
      ],
      "metadata": {
        "id": "2IJcVwBguYZ8"
      }
    },
    {
      "cell_type": "code",
      "source": [
        "# Run this cell to show the source code of the script.\n",
        "\n",
        "!cat sympy_12.py"
      ],
      "metadata": {
        "id": "9lP4w1clugqP"
      },
      "execution_count": null,
      "outputs": []
    },
    {
      "cell_type": "code",
      "source": [
        "# Run this cell to execute the script.\n",
        "\n",
        "!python3.13 sympy_12.py"
      ],
      "metadata": {
        "id": "hRbVz53TugqP"
      },
      "execution_count": null,
      "outputs": []
    },
    {
      "cell_type": "markdown",
      "source": [
        "# 4.14. definite integral 2"
      ],
      "metadata": {
        "id": "NcOt6Z2supxT"
      }
    },
    {
      "cell_type": "code",
      "source": [
        "# Run this cell to show the source code of the script.\n",
        "\n",
        "!cat sympy_13.py"
      ],
      "metadata": {
        "id": "sBpveX7MupxV"
      },
      "execution_count": null,
      "outputs": []
    },
    {
      "cell_type": "code",
      "source": [
        "# Run this cell to execute the script.\n",
        "\n",
        "!python3.13 sympy_13.py"
      ],
      "metadata": {
        "id": "4XVO6OL3upxV"
      },
      "execution_count": null,
      "outputs": []
    },
    {
      "cell_type": "markdown",
      "source": [
        "# 4.15. definite integral 3"
      ],
      "metadata": {
        "id": "QUjVpxmTutl6"
      }
    },
    {
      "cell_type": "code",
      "source": [
        "# Run this cell to show the source code of the script.\n",
        "\n",
        "!cat sympy_14.py"
      ],
      "metadata": {
        "id": "juDyLm_Iutl7"
      },
      "execution_count": null,
      "outputs": []
    },
    {
      "cell_type": "code",
      "source": [
        "# Run this cell to execute the script.\n",
        "\n",
        "!python3.13 sympy_14.py"
      ],
      "metadata": {
        "id": "54cEK41eutl7"
      },
      "execution_count": null,
      "outputs": []
    },
    {
      "cell_type": "markdown",
      "source": [
        "# 4.16. definite integral 4"
      ],
      "metadata": {
        "id": "W06gILDfu7GU"
      }
    },
    {
      "cell_type": "code",
      "source": [
        "# Run this cell to show the source code of the script.\n",
        "\n",
        "!cat sympy_15.py"
      ],
      "metadata": {
        "id": "Y8YQ_omDu7GU"
      },
      "execution_count": null,
      "outputs": []
    },
    {
      "cell_type": "code",
      "source": [
        "# Run this cell to execute the script.\n",
        "\n",
        "!python3.13 sympy_15.py"
      ],
      "metadata": {
        "id": "gduClgV_u7GU"
      },
      "execution_count": null,
      "outputs": []
    },
    {
      "cell_type": "markdown",
      "source": [
        "# 4.17. Calculation for free-fall time"
      ],
      "metadata": {
        "id": "NSkoafYmvBxa"
      }
    },
    {
      "cell_type": "code",
      "source": [
        "# Run this cell to show the source code of the script.\n",
        "\n",
        "!cat sympy_16.py"
      ],
      "metadata": {
        "id": "ZdSqjJ7wvFc7"
      },
      "execution_count": null,
      "outputs": []
    },
    {
      "cell_type": "code",
      "source": [
        "# Run this cell to execute the script.\n",
        "\n",
        "!python3.13 sympy_16.py"
      ],
      "metadata": {
        "id": "lG1cKrslvFc8"
      },
      "execution_count": null,
      "outputs": []
    },
    {
      "cell_type": "markdown",
      "source": [
        "# End of this notebook"
      ],
      "metadata": {
        "id": "BV90yCuCKzpw"
      }
    }
  ]
}